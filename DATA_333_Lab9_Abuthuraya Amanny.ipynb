{
 "cells": [
  {
   "cell_type": "code",
   "execution_count": 1,
   "metadata": {},
   "outputs": [
    {
     "name": "stdout",
     "output_type": "stream",
     "text": [
      "Welcome To The Customer Database\n",
      "Would you like to add a new user or view users?\n"
     ]
    },
    {
     "name": "stdout",
     "output_type": "stream",
     "text": [
      "[(1, 'Adam', 'A', 'adams@email.com', 0, '80th Parkway', 'Kirkland', 'WA', 98033), (2, 'Amanny', 'abuthuraya', 'amanny@email.com', 98765432, '100th St', 'Kirkland', 'WA', 98033), (3, 'Liz', 'L', 'liz@email.com', 0, '50th Lakeview St.', 'kirkland', 'WA', 98033), (4, 'Zoe', 'Zee', 'zoey@gmail.com', 123456788, '123 ABC ave', 'Bellevue', 'WA', 999999), (5, 'Penny', 'Pen', 'penny@email.com', 987095423, '100th Parkview Ln.', 'Bellevue', 'Kirkland', 0)]\n",
      "Session has ended\n",
      "\n",
      "sqlite connection is closed\n"
     ]
    }
   ],
   "source": [
    "import sqlite3\n",
    "\n",
    "# to create and open a connection with the database using a try statement to detect errors\n",
    "try:\n",
    "    sqliteConnection = sqlite3.connect('SQLite_Python.db')\n",
    "    #to create a table if it doesn't previously exist\n",
    "    sqlite_create_table_query = '''CREATE TABLE IF NOT EXISTS customers (\n",
    "                                id INTEGER PRIMARY KEY,\n",
    "                                first_name TEXT NOT NULL,\n",
    "                                last_name text NOT NULL UNIQUE,\n",
    "                                email_address text not null,\n",
    "                                phone_number integer,\n",
    "                                street_address text not null,\n",
    "                                city text not null,\n",
    "                                state text not null,\n",
    "                                zipcode int not null);'''\n",
    "# to set up the cursor that will talk with the database\n",
    "    cursor = sqliteConnection.cursor()\n",
    "    cursor.execute(sqlite_create_table_query)\n",
    "\n",
    "    print(\"Welcome To The Customer Database\")\n",
    "\n",
    "\n",
    "\n",
    "    choice=\"yes\"\n",
    "    while choice.lower()==\"yes\":\n",
    "        print(\"Would you like to add a new user or view users?\")\n",
    "        answer= int(input(\"1) Add New User  2) View Users\"))\n",
    "\n",
    "        if answer==1:\n",
    "            #getting user input \n",
    "            print(\"Please Enter The Following Fields:\")\n",
    "            print()\n",
    "            first_name= input(\"First Name:\")\n",
    "            last_name= input(\"Last Name:\")\n",
    "            email= input(\"Email Address: \")\n",
    "            phone= int(input(\"Phone Number: \"))\n",
    "            address= input(\"Street Address: \")\n",
    "            city= input(\"City: \")\n",
    "            state= input(\"State: \")\n",
    "            zipcode= int(input(\"Zipcode: \"))\n",
    "\n",
    "            #values to be inserted into table\n",
    "            insert_data= \"\"\"INSERT INTO customers (first_name, last_name, email_address, phone_number, street_address, city, state, zipcode )\n",
    "            VALUES (?, ?, ?, ?, ?, ?, ?, ?) \"\"\"\n",
    "            cursor.execute (insert_data, (first_name, last_name, email, phone, address, city, state, zipcode))\n",
    "            print(\"New User data has been added\")\n",
    "            choice=input(\"Continue? Yes/No\")\n",
    "\n",
    "        elif answer==2:\n",
    "            #to print table data\n",
    "            select_data= \"\"\"SELECT * FROM customers\"\"\"\n",
    "            cursor.execute(select_data)\n",
    "            print(cursor.fetchall())\n",
    "            choice=input(\"Continue? Yes/No\")\n",
    "\n",
    "        else:\n",
    "            print(\"Please select between 1 or 2\")\n",
    "\n",
    "    print(\"Session has ended\")\n",
    "    print()\n",
    "    sqliteConnection.commit() #to send the updates to the data to the database\n",
    "\n",
    "    # Close the connection\n",
    "    cursor.close()\n",
    "\n",
    "except sqlite3.Error as error:\n",
    "    print(\"Error while creating a sqlite table\", error)\n",
    "finally:\n",
    "    if sqliteConnection:\n",
    "        sqliteConnection.close()\n",
    "        print(\"sqlite connection is closed\")"
   ]
  }
 ],
 "metadata": {
  "kernelspec": {
   "display_name": "Python 3",
   "language": "python",
   "name": "python3"
  },
  "language_info": {
   "codemirror_mode": {
    "name": "ipython",
    "version": 3
   },
   "file_extension": ".py",
   "mimetype": "text/x-python",
   "name": "python",
   "nbconvert_exporter": "python",
   "pygments_lexer": "ipython3",
   "version": "3.11.3"
  }
 },
 "nbformat": 4,
 "nbformat_minor": 2
}
